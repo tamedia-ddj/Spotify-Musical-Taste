{
 "cells": [
  {
   "cell_type": "code",
   "execution_count": 108,
   "metadata": {},
   "outputs": [],
   "source": [
    "import pandas as pd\n",
    "import spotipy\n",
    "import spotipy.util as util\n",
    "import numpy as np\n",
    "import matplotlib.pyplot as plt"
   ]
  },
  {
   "cell_type": "markdown",
   "metadata": {},
   "source": [
    "## Authentification"
   ]
  },
  {
   "cell_type": "code",
   "execution_count": null,
   "metadata": {},
   "outputs": [],
   "source": [
    "USERNAME = 'SPOTIFY_USERNAME' #your spotify username\n",
    "CLIENT_ID = 'ENTER_CLIENT_ID'#get from your developer Spotify account\n",
    "CLIENT_SECRET = 'ENTER_SECRET_ID' #get from your developer Spotify account\n",
    "REDIRECT_URI = 'http://localhost:8888/callback' #set at your developer account, usually \"http://localhost:8000\"\n",
    "#SCOPE =  \"user-top- read\"\n",
    "SCOPE = 'user-library-read'+\",\"+ \"user-read-recently-played\"+\",\"+ \"user-top-read\" + \",\" + 'playlist-modify-public' #\n",
    "\n",
    "token = util.prompt_for_user_token(username = USERNAME, \n",
    "                                   scope = SCOPE, \n",
    "                                   client_id = CLIENT_ID, \n",
    "                                   client_secret = CLIENT_SECRET, \n",
    "                                   redirect_uri = REDIRECT_URI)\n",
    "\n",
    "# get token\n",
    "if token:\n",
    "   sp = spotipy.Spotify(auth=token)\n",
    "\n",
    "# test access\n",
    "sp.current_user()\n"
   ]
  },
  {
   "cell_type": "markdown",
   "metadata": {},
   "source": [
    "## Define Functions\n",
    "### Function to receive musical features from given tracks:"
   ]
  },
  {
   "cell_type": "code",
   "execution_count": 93,
   "metadata": {},
   "outputs": [],
   "source": [
    "# get features from List of tracks URIs \n",
    "def get_stuff_tracks(uri_tracks):\n",
    "# get features\n",
    "    features, features_base = [], []\n",
    "    tracks, tracks_base = [], []\n",
    "    j, n, step = 0, len(uri_tracks), 30\n",
    "\n",
    "    while True: # make loop, becasue max # of elements is 50\n",
    "        #print(j)\n",
    "        if(j>n):\n",
    "            break\n",
    "        features_base = sp.audio_features(uri_tracks.loc[j : j+step, 'uri'])\n",
    "        features.extend(features_base)\n",
    "        tracks_base = sp.tracks(uri_tracks.loc[j : j+step, 'uri'])['tracks']\n",
    "        tracks.extend(tracks_base)\n",
    "\n",
    "        j += step + 1\n",
    "\n",
    "    # put interesting stuff in dataframe\n",
    "    df = pd.DataFrame() \n",
    "    for i, feature in enumerate(features):\n",
    "        df.loc[i, 'artist_name'] = uri_tracks.loc[i, 'artist']\n",
    "        df.loc[i, 'track_name'] = uri_tracks.loc[i, 'track']\n",
    "        df.loc[i, 'uri'] = uri_tracks.loc[i, 'uri']\n",
    "        list_genre.append(sp.artist(tracks[i]['artists'][0]['uri'])['genres'])\n",
    "        #print(\"list genre\")\n",
    "        df.loc[i, 'valence'] = feature['valence']\n",
    "        df.loc[i, 'danceability'] = feature['danceability']\n",
    "        df.loc[i, 'energy'] = feature['energy']\n",
    "        df.loc[i, 'speechiness'] = feature['speechiness'] # if >0.66 most probably entirely spoken\n",
    "        df.loc[i, 'acousticness'] = feature['acousticness']\n",
    "        df.loc[i, 'liveness'] = feature['liveness']\n",
    "        df.loc[i, 'tempo'] = feature['tempo']\n",
    "        df.loc[i, 'mode'] = feature['mode']\n",
    "        df.loc[i, 'key'] = feature['key']\n",
    "        df.loc[i, 'time_signature'] = feature['time_signature']\n",
    "        df.loc[i, 'duration'] = feature['duration_ms']\n",
    "        df.loc[i, 'analysis_url'] = feature['analysis_url']\n",
    "        df.loc[i, 'popularity'] = tracks[i]['popularity']\n",
    "    #        df.loc[i, 'release'] = sp.album(tracks[i]['track']['album']['uri'])['release_date'] # Carefull, slow!\n",
    "        df.loc[i, 'album_uri'] = tracks[i]['album']['uri']\n",
    "        df.loc[i, 'album_name'] = tracks[i]['album']['name']\n",
    "        df.loc[i, 'track_uri'] = tracks[i]['uri']\n",
    "        \n",
    "        #print(i)\n",
    "    return(df)\n",
    "\n",
    "\n"
   ]
  },
  {
   "cell_type": "markdown",
   "metadata": {},
   "source": [
    "### Function to receive the Top100 tracks and features from the logged-in user:"
   ]
  },
  {
   "cell_type": "code",
   "execution_count": 94,
   "metadata": {},
   "outputs": [],
   "source": [
    "def get_stuff_user(timerange = \"medium_range\"):\n",
    "    \n",
    "    ## get tracks\n",
    "    # its seems only to be possible to catch 99 tracks in total (49 + 50)\n",
    "    results = sp.current_user_top_tracks(limit = 49, offset = 0, time_range=timerange) # only 50 per request\n",
    "    tracks = results['items']\n",
    "    results = sp.current_user_top_tracks(limit = 50, offset = 49, time_range=timerange) # only 50 per request\n",
    "    tracks = tracks + results['items']\n",
    "    \n",
    "    for item in tracks:\n",
    "        track = item\n",
    "        print(track['name'] + ' - ' + track['artists'][0]['name'])\n",
    "    tids = []\n",
    "    for i, t in enumerate(tracks):\n",
    "        #print(' ', i, t['name'])\n",
    "        tids.append(t['uri'])\n",
    "    \n",
    "    # get features\n",
    "    features, features_base = [], []\n",
    "    j, n, step = 0, len(tracks), 30\n",
    "    while True: # make loop, becasue max # of elements is 50\n",
    "        features_base = sp.audio_features(tids[j : j+step])\n",
    "        features.extend(features_base)\n",
    "        if(j>n):\n",
    "            break\n",
    "        else:\n",
    "            j += step\n",
    "    del features[-1] # remove last entry which es empty\n",
    "    \n",
    "    # put interesting stuff in dataframe\n",
    "    df = pd.DataFrame() \n",
    "    for i, feature in enumerate(features):\n",
    "        df.loc[i, 'artist_name'] = tracks[i]['artists'][0]['name']\n",
    "        df.loc[i, 'album_name'] = tracks[i]['album']['name']\n",
    "        df.loc[i, 'track_name'] = tracks[i]['name']\n",
    "        df.loc[i, 'popularity'] = tracks[i]['popularity']\n",
    "#        df.loc[i, 'release'] = sp.album(tracks[i]['track']['album']['uri'])['release_date'] # Carefull, slow!\n",
    "        df.loc[i, 'album_uri'] = tracks[i]['album']['uri']\n",
    "        df.loc[i, 'track_uri'] = tracks[i]['uri']\n",
    "        df.loc[i, 'valence'] = feature['valence']\n",
    "        df.loc[i, 'danceability'] = feature['danceability']\n",
    "        df.loc[i, 'energy'] = feature['energy']\n",
    "        df.loc[i, 'speechiness'] = feature['speechiness'] # if >0.66 most probably entirely spoken\n",
    "        df.loc[i, 'acousticness'] = feature['acousticness']\n",
    "        df.loc[i, 'liveness'] = feature['liveness']\n",
    "        df.loc[i, 'tempo'] = feature['tempo']\n",
    "        df.loc[i, 'mode'] = feature['mode']\n",
    "        df.loc[i, 'key'] = feature['key']\n",
    "        df.loc[i, 'time_signature'] = feature['time_signature']\n",
    "        df.loc[i, 'duration'] = feature['duration_ms']\n",
    "        df.loc[i, 'analysis_url'] = feature['analysis_url']\n",
    "        #print(i)\n",
    "    return(df)"
   ]
  },
  {
   "cell_type": "markdown",
   "metadata": {},
   "source": [
    "## Analyze Top100 Songs of all Generations"
   ]
  },
  {
   "cell_type": "markdown",
   "metadata": {},
   "source": [
    "### Import Spotify-Data (Top100 Songs) for all Generations"
   ]
  },
  {
   "cell_type": "code",
   "execution_count": 104,
   "metadata": {},
   "outputs": [],
   "source": [
    "uris_x = pd.read_csv(\"Data_Input/gen_x.csv\", encoding=\"utf-8\",  sep=';',)\n",
    "uris_y = pd.read_csv(\"Data_Input/gen_y.csv\", encoding=\"utf-8\",  sep=';',)\n",
    "uris_z = pd.read_csv(\"Data_Input/gen_z.csv\", encoding=\"utf-8\",  sep=';',)\n",
    "uris_boomer = pd.read_csv(\"Data_Input/gen_boomer.csv\", encoding=\"utf-8\",  sep=';',)\n"
   ]
  },
  {
   "cell_type": "markdown",
   "metadata": {},
   "source": [
    "Example for Generation X:"
   ]
  },
  {
   "cell_type": "code",
   "execution_count": 105,
   "metadata": {},
   "outputs": [
    {
     "data": {
      "text/html": [
       "<div>\n",
       "<style scoped>\n",
       "    .dataframe tbody tr th:only-of-type {\n",
       "        vertical-align: middle;\n",
       "    }\n",
       "\n",
       "    .dataframe tbody tr th {\n",
       "        vertical-align: top;\n",
       "    }\n",
       "\n",
       "    .dataframe thead th {\n",
       "        text-align: right;\n",
       "    }\n",
       "</style>\n",
       "<table border=\"1\" class=\"dataframe\">\n",
       "  <thead>\n",
       "    <tr style=\"text-align: right;\">\n",
       "      <th></th>\n",
       "      <th>uri</th>\n",
       "      <th>artist</th>\n",
       "      <th>track</th>\n",
       "    </tr>\n",
       "  </thead>\n",
       "  <tbody>\n",
       "    <tr>\n",
       "      <th>0</th>\n",
       "      <td>spotify:track:3dfCKQy9JY2ixI58zTeUn9</td>\n",
       "      <td>Lo &amp; Leduc</td>\n",
       "      <td>079</td>\n",
       "    </tr>\n",
       "    <tr>\n",
       "      <th>1</th>\n",
       "      <td>spotify:track:0E9ZjEAyAwOXZ7wJC0PD33</td>\n",
       "      <td>Dynoro</td>\n",
       "      <td>In My Mind</td>\n",
       "    </tr>\n",
       "    <tr>\n",
       "      <th>2</th>\n",
       "      <td>spotify:track:2VxeLyX666F8uXCJ0dZF8B</td>\n",
       "      <td>Lady Gaga</td>\n",
       "      <td>Shallow</td>\n",
       "    </tr>\n",
       "    <tr>\n",
       "      <th>3</th>\n",
       "      <td>spotify:track:63SevszngYpZOwf63o61K4</td>\n",
       "      <td>Dennis Lloyd</td>\n",
       "      <td>Nevermind</td>\n",
       "    </tr>\n",
       "    <tr>\n",
       "      <th>4</th>\n",
       "      <td>spotify:track:7ef4DlsgrMEH11cDZd32M6</td>\n",
       "      <td>Calvin Harris</td>\n",
       "      <td>One Kiss (with Dua Lipa)</td>\n",
       "    </tr>\n",
       "  </tbody>\n",
       "</table>\n",
       "</div>"
      ],
      "text/plain": [
       "                                    uri         artist  \\\n",
       "0  spotify:track:3dfCKQy9JY2ixI58zTeUn9     Lo & Leduc   \n",
       "1  spotify:track:0E9ZjEAyAwOXZ7wJC0PD33         Dynoro   \n",
       "2  spotify:track:2VxeLyX666F8uXCJ0dZF8B      Lady Gaga   \n",
       "3  spotify:track:63SevszngYpZOwf63o61K4   Dennis Lloyd   \n",
       "4  spotify:track:7ef4DlsgrMEH11cDZd32M6  Calvin Harris   \n",
       "\n",
       "                      track  \n",
       "0                       079  \n",
       "1                In My Mind  \n",
       "2                   Shallow  \n",
       "3                 Nevermind  \n",
       "4  One Kiss (with Dua Lipa)  "
      ]
     },
     "execution_count": 105,
     "metadata": {},
     "output_type": "execute_result"
    }
   ],
   "source": [
    "uris_x.head()"
   ]
  },
  {
   "cell_type": "markdown",
   "metadata": {},
   "source": [
    "### Get Musical Features for all Songs"
   ]
  },
  {
   "cell_type": "code",
   "execution_count": 106,
   "metadata": {},
   "outputs": [],
   "source": [
    "# This step takes up to 1 Minute\n",
    "\n",
    "list_genre = []\n",
    "df_boomer = get_stuff_tracks(uris_boomer)\n",
    "list_genre_boomer = list_genre\n",
    "flat_list_boomer = pd.Series([item for sublist in list_genre_boomer for item in sublist])\n",
    "a_boomer = flat_list_boomer.value_counts()\n",
    "\n",
    "list_genre = []\n",
    "df_x = get_stuff_tracks(uris_x)\n",
    "list_genre_x = list_genre\n",
    "flat_list_x = pd.Series([item for sublist in list_genre_x for item in sublist])\n",
    "a_x = flat_list_x.value_counts()\n",
    "\n",
    "list_genre = []\n",
    "df_y = get_stuff_tracks(uris_y)\n",
    "list_genre_y = list_genre\n",
    "flat_list_y = pd.Series([item for sublist in list_genre_y for item in sublist])\n",
    "a_y = flat_list_y.value_counts()\n",
    "\n",
    "list_genre = []\n",
    "df_z = get_stuff_tracks(uris_z)\n",
    "list_genre_z = list_genre\n",
    "flat_list_z = pd.Series([item for sublist in list_genre_z for item in sublist])\n",
    "a_z= flat_list_z.value_counts()\n"
   ]
  },
  {
   "cell_type": "markdown",
   "metadata": {},
   "source": [
    "### Analyse Musical Features"
   ]
  },
  {
   "cell_type": "code",
   "execution_count": 95,
   "metadata": {},
   "outputs": [],
   "source": [
    "# meta analysis --> All the mean values per generation in one dataframe\n",
    "data_gen = {'gen_boomer':df_boomer, 'gen_x':df_x, 'gen_y':df_y, 'gen_z':df_z}\n",
    "\n",
    "df_meta = pd.DataFrame()\n",
    "generations = ['gen_boomer', 'gen_x', 'gen_y', 'gen_z']\n",
    "\n",
    "for generation in generations:\n",
    "    #print(generation)\n",
    "    df_meta.loc[generation, 'speechiness'] = data_gen[generation]['speechiness'].mean()\n",
    "    df_meta.loc[generation, 'danceability'] = data_gen[generation]['danceability'].mean()\n",
    "    df_meta.loc[generation, 'energy'] = data_gen[generation]['energy'].mean()\n",
    "\n",
    "    df_meta.loc[generation, 'valence'] = data_gen[generation]['valence'].mean()\n",
    "    df_meta.loc[generation, 'acousticness'] = data_gen[generation]['acousticness'].mean()\n",
    "    df_meta.loc[generation, 'liveness'] = data_gen[generation]['liveness'].mean()\n",
    "    \n",
    "    df_meta.loc[generation, 'popularity'] = data_gen[generation]['popularity'].mean()\n",
    "    df_meta.loc[generation, 'tempo'] = data_gen[generation]['tempo'].mean()\n",
    "    df_meta.loc[generation, 'duration'] = data_gen[generation]['duration'].mean()\n",
    "\n",
    "# store average featrue values\n",
    "df_meta.to_csv(\"Data_Output/all_gen_average_values.csv\")"
   ]
  },
  {
   "cell_type": "markdown",
   "metadata": {},
   "source": [
    "**Average feature values of all generations:**"
   ]
  },
  {
   "cell_type": "code",
   "execution_count": 107,
   "metadata": {},
   "outputs": [
    {
     "data": {
      "text/html": [
       "<div>\n",
       "<style scoped>\n",
       "    .dataframe tbody tr th:only-of-type {\n",
       "        vertical-align: middle;\n",
       "    }\n",
       "\n",
       "    .dataframe tbody tr th {\n",
       "        vertical-align: top;\n",
       "    }\n",
       "\n",
       "    .dataframe thead th {\n",
       "        text-align: right;\n",
       "    }\n",
       "</style>\n",
       "<table border=\"1\" class=\"dataframe\">\n",
       "  <thead>\n",
       "    <tr style=\"text-align: right;\">\n",
       "      <th></th>\n",
       "      <th>speechiness</th>\n",
       "      <th>danceability</th>\n",
       "      <th>energy</th>\n",
       "      <th>valence</th>\n",
       "      <th>acousticness</th>\n",
       "      <th>liveness</th>\n",
       "      <th>popularity</th>\n",
       "      <th>tempo</th>\n",
       "      <th>duration</th>\n",
       "    </tr>\n",
       "  </thead>\n",
       "  <tbody>\n",
       "    <tr>\n",
       "      <th>gen_boomer</th>\n",
       "      <td>0.068757</td>\n",
       "      <td>0.63980</td>\n",
       "      <td>0.61494</td>\n",
       "      <td>0.525176</td>\n",
       "      <td>0.268999</td>\n",
       "      <td>0.189081</td>\n",
       "      <td>71.56</td>\n",
       "      <td>113.57911</td>\n",
       "      <td>228427.69</td>\n",
       "    </tr>\n",
       "    <tr>\n",
       "      <th>gen_x</th>\n",
       "      <td>0.086259</td>\n",
       "      <td>0.67036</td>\n",
       "      <td>0.64807</td>\n",
       "      <td>0.485440</td>\n",
       "      <td>0.220222</td>\n",
       "      <td>0.170916</td>\n",
       "      <td>72.43</td>\n",
       "      <td>114.08357</td>\n",
       "      <td>216141.54</td>\n",
       "    </tr>\n",
       "    <tr>\n",
       "      <th>gen_y</th>\n",
       "      <td>0.105976</td>\n",
       "      <td>0.70611</td>\n",
       "      <td>0.67971</td>\n",
       "      <td>0.488773</td>\n",
       "      <td>0.194504</td>\n",
       "      <td>0.159619</td>\n",
       "      <td>74.26</td>\n",
       "      <td>113.74485</td>\n",
       "      <td>207594.26</td>\n",
       "    </tr>\n",
       "    <tr>\n",
       "      <th>gen_z</th>\n",
       "      <td>0.140021</td>\n",
       "      <td>0.72118</td>\n",
       "      <td>0.64611</td>\n",
       "      <td>0.481063</td>\n",
       "      <td>0.233753</td>\n",
       "      <td>0.152749</td>\n",
       "      <td>72.89</td>\n",
       "      <td>114.77119</td>\n",
       "      <td>199376.87</td>\n",
       "    </tr>\n",
       "  </tbody>\n",
       "</table>\n",
       "</div>"
      ],
      "text/plain": [
       "            speechiness  danceability   energy   valence  acousticness  \\\n",
       "gen_boomer     0.068757       0.63980  0.61494  0.525176      0.268999   \n",
       "gen_x          0.086259       0.67036  0.64807  0.485440      0.220222   \n",
       "gen_y          0.105976       0.70611  0.67971  0.488773      0.194504   \n",
       "gen_z          0.140021       0.72118  0.64611  0.481063      0.233753   \n",
       "\n",
       "            liveness  popularity      tempo   duration  \n",
       "gen_boomer  0.189081       71.56  113.57911  228427.69  \n",
       "gen_x       0.170916       72.43  114.08357  216141.54  \n",
       "gen_y       0.159619       74.26  113.74485  207594.26  \n",
       "gen_z       0.152749       72.89  114.77119  199376.87  "
      ]
     },
     "execution_count": 107,
     "metadata": {},
     "output_type": "execute_result"
    }
   ],
   "source": [
    "df_meta"
   ]
  },
  {
   "cell_type": "markdown",
   "metadata": {},
   "source": [
    "**Plot average values for all generations:**"
   ]
  },
  {
   "cell_type": "code",
   "execution_count": 90,
   "metadata": {
    "scrolled": true
   },
   "outputs": [
    {
     "data": {
      "text/plain": [
       "Text(0.5, 0.97, 'Musical Taste of Swiss Spotify Listeners by Generation')"
      ]
     },
     "execution_count": 90,
     "metadata": {},
     "output_type": "execute_result"
    },
    {
     "data": {
      "image/png": "[encoded data removed]",
      "text/plain": [
       "<Figure size 1080x936 with 8 Axes>"
      ]
     },
     "metadata": {},
     "output_type": "display_data"
    }
   ],
   "source": [
    "\n",
    "features_top = ['speechiness', 'danceability', 'energy', 'valence', 'duration', 'acousticness', 'liveness', 'popularity']\n",
    "\n",
    "# Initialize the figure\n",
    "plt.style.use('seaborn-darkgrid')\n",
    "# create a color palette\n",
    "palette = plt.get_cmap('Set1')\n",
    "# multiple line plot\n",
    "num=0\n",
    "plt.rcParams['figure.figsize'] = [15, 13]\n",
    "plt.rcParams.update({'font.size': 12})\n",
    "\n",
    "for feature in features_top:\n",
    "    num+=1\n",
    "    # Find the right spot on the plot\n",
    "    plt.subplot(3,3, num)\n",
    "    #print(feature)\n",
    "    plt.plot(generations, df_meta[feature][0:4], marker='', color=palette(num), linewidth=1.9, alpha=0.9, label=feature)\n",
    "\n",
    "    # Add title\n",
    "    plt.title(feature, loc='left', fontsize=18, fontweight=0, color=palette(num) )\n",
    "#a = list([\"a\", \"b\", \"c\", \"d\"])\n",
    "# general title\n",
    "plt.suptitle(\"Musical Taste of Swiss Spotify Listeners by Generation\",  fontsize=24, fontweight=0, color='black', y=0.97)\n",
    "# Axis title\n",
    "#plt.text(1, -0.04, 'Generation', ha='center', va='center', transform=ax.transAxes, fontsize=18)\n",
    "#plt.text(0.02, 0.5, 'Note', ha='center', va='center', rotation='vertical')\n",
    "\n",
    "\n",
    "\n"
   ]
  },
  {
   "cell_type": "markdown",
   "metadata": {},
   "source": [
    "### Which Artists appear most Often in the Top100 Tracks?"
   ]
  },
  {
   "cell_type": "code",
   "execution_count": 101,
   "metadata": {},
   "outputs": [],
   "source": [
    "df_top_gen_boomer = pd.DataFrame()\n",
    "df_top_gen_x = pd.DataFrame()\n",
    "df_top_gen_y = pd.DataFrame()\n",
    "df_top_gen_z = pd.DataFrame()\n",
    "df_top_gen_boomer.loc[:, 'count'] = df_boomer.artist_name.value_counts()\n",
    "df_top_gen_x.loc[:, 'count'] = df_x.artist_name.value_counts()\n",
    "df_top_gen_y.loc[:, 'count'] = df_y.artist_name.value_counts()\n",
    "df_top_gen_z.loc[:, 'count'] = df_z.artist_name.value_counts()\n",
    "\n",
    "df_top = df_top_gen_boomer.merge(df_top_gen_x, left_index = True, right_index = True, how = 'outer', suffixes = ('boomer', 'x')).merge(df_top_gen_y, left_index = True, right_index = True, how = 'outer', suffixes = ('', 'y')).merge(df_top_gen_z, left_index = True, right_index = True, how = 'outer', suffixes = ('y', 'z'))\n",
    "df_top.loc[:, 'total'] = df_top.apply(np.nansum, axis = 1)\n",
    "\n",
    "# store artist count\n",
    "df_top.to_csv(\"Data_Output/all_gen_artists_count.csv\")\n",
    "\n"
   ]
  },
  {
   "cell_type": "code",
   "execution_count": 102,
   "metadata": {
    "scrolled": true
   },
   "outputs": [
    {
     "data": {
      "text/html": [
       "<div>\n",
       "<style scoped>\n",
       "    .dataframe tbody tr th:only-of-type {\n",
       "        vertical-align: middle;\n",
       "    }\n",
       "\n",
       "    .dataframe tbody tr th {\n",
       "        vertical-align: top;\n",
       "    }\n",
       "\n",
       "    .dataframe thead th {\n",
       "        text-align: right;\n",
       "    }\n",
       "</style>\n",
       "<table border=\"1\" class=\"dataframe\">\n",
       "  <thead>\n",
       "    <tr style=\"text-align: right;\">\n",
       "      <th></th>\n",
       "      <th>countboomer</th>\n",
       "      <th>countx</th>\n",
       "      <th>county</th>\n",
       "      <th>countz</th>\n",
       "      <th>total</th>\n",
       "    </tr>\n",
       "  </thead>\n",
       "  <tbody>\n",
       "    <tr>\n",
       "      <th>Ed Sheeran</th>\n",
       "      <td>6.0</td>\n",
       "      <td>6.0</td>\n",
       "      <td>2.0</td>\n",
       "      <td>NaN</td>\n",
       "      <td>14.0</td>\n",
       "    </tr>\n",
       "    <tr>\n",
       "      <th>Capital Bra</th>\n",
       "      <td>NaN</td>\n",
       "      <td>1.0</td>\n",
       "      <td>3.0</td>\n",
       "      <td>8.0</td>\n",
       "      <td>12.0</td>\n",
       "    </tr>\n",
       "    <tr>\n",
       "      <th>Drake</th>\n",
       "      <td>2.0</td>\n",
       "      <td>2.0</td>\n",
       "      <td>4.0</td>\n",
       "      <td>4.0</td>\n",
       "      <td>12.0</td>\n",
       "    </tr>\n",
       "    <tr>\n",
       "      <th>Imagine Dragons</th>\n",
       "      <td>1.0</td>\n",
       "      <td>5.0</td>\n",
       "      <td>3.0</td>\n",
       "      <td>2.0</td>\n",
       "      <td>11.0</td>\n",
       "    </tr>\n",
       "    <tr>\n",
       "      <th>XXXTENTACION</th>\n",
       "      <td>1.0</td>\n",
       "      <td>2.0</td>\n",
       "      <td>3.0</td>\n",
       "      <td>5.0</td>\n",
       "      <td>11.0</td>\n",
       "    </tr>\n",
       "  </tbody>\n",
       "</table>\n",
       "</div>"
      ],
      "text/plain": [
       "                 countboomer  countx  county  countz  total\n",
       "Ed Sheeran               6.0     6.0     2.0     NaN   14.0\n",
       "Capital Bra              NaN     1.0     3.0     8.0   12.0\n",
       "Drake                    2.0     2.0     4.0     4.0   12.0\n",
       "Imagine Dragons          1.0     5.0     3.0     2.0   11.0\n",
       "XXXTENTACION             1.0     2.0     3.0     5.0   11.0"
      ]
     },
     "execution_count": 102,
     "metadata": {},
     "output_type": "execute_result"
    }
   ],
   "source": [
    "df_top = df_top.sort_values(\"total\", ascending = False)\n",
    "df_top.head()\n"
   ]
  },
  {
   "cell_type": "markdown",
   "metadata": {},
   "source": [
    "## User Top100 Tracks"
   ]
  },
  {
   "cell_type": "markdown",
   "metadata": {},
   "source": [
    "### Get the Users Top100 Tracks"
   ]
  },
  {
   "cell_type": "code",
   "execution_count": 77,
   "metadata": {
    "scrolled": true
   },
   "outputs": [
    {
     "name": "stdout",
     "output_type": "stream",
     "text": [
      "Reindeer King - Tori Amos\n",
      "Waste - Evelinn Trouble\n",
      "De Flamingo - Cabaret Rotstift\n",
      "Hunger - Florence + The Machine\n",
      "Sky Full Of Song - Florence + The Machine\n",
      "Nail - Zola Jesus\n",
      "Big God - Florence + The Machine\n",
      "Go With The Flow - Queens of the Stone Age\n",
      "Never Came Around - Evelinn Trouble\n",
      "Monstruous - Evelinn Trouble\n",
      "Traffic - Thom Yorke\n",
      "Saltlick - Homeless Remix - Len Sander\n",
      "Back Where I Belong - Baroness\n",
      "Cherry Lady - Capital Bra\n",
      "You're Not Scared of Losing Me - Evelinn Trouble\n",
      "Rise and Fall - Sophie Hunger\n",
      "Die Ganze Welt - Sophie Hunger\n",
      "Hope Music - Evelinn Trouble\n",
      "You've Got The Love - Florence + The Machine\n",
      "De Tiger - Cabaret Rotstift\n",
      "Moderation - Florence + The Machine\n",
      "Not Important - Evelinn Trouble\n",
      "Bliss - Muse\n",
      "Sonnenbrille - Loredana\n",
      "Wir ticken - Capital Bra\n",
      "Morningstar - Baroness\n",
      "Die Leiche - Farin Urlaub Racing Team\n",
      "Lass mich nicht los - Faber\n",
      "Green Machine - Kyuss\n",
      "No Class - Evelinn Trouble\n",
      "Hallelujah - Jeff Buckley\n",
      "100 Degrees - Kyuss\n",
      "Dog Days Are Over - Florence + The Machine\n",
      "Jenny of Oldstones (Game of Thrones) - Florence + The Machine\n",
      "I de Nacht - Schlieremer Chind\n",
      "The Island - Ladytron\n",
      "Prelude - Evelinn Trouble\n",
      "Right Where It Belongs - Nine Inch Nails\n",
      "Shake It Out - Florence + The Machine\n",
      "Shadowplay - 2007 Remaster - Joy Division\n",
      "S Zebra - Cabaret Rotstift\n",
      "June - Florence + The Machine\n",
      "My Best Dress - Demo - Florence + The Machine\n",
      "Thursday's Child - David Bowie\n",
      "1983 - Sophie Hunger\n",
      "I Am a Very Rude Person - Thom Yorke\n",
      "Something I Can Never Have - Nine Inch Nails\n",
      "Reminder - Evelinn Trouble\n",
      "Leather Teeth - Carpenter Brut\n",
      "The End Of Love - Florence + The Machine\n",
      "South London Forever - Florence + The Machine\n",
      "when the party's over - Billie Eilish\n",
      "100 Years - Florence + The Machine\n",
      "Grace - Florence + The Machine\n",
      "Spectrum (Say My Name) - Calvin Harris Remix - Florence + The Machine\n",
      "Stand By Me - Florence + The Machine\n",
      "Patricia - Florence + The Machine\n",
      "Kleppa - Signorino TJ Remix - Filewile\n",
      "Dawn Chorus - Thom Yorke\n",
      "Stonemilker - Björk\n",
      "Gardenia - Kyuss\n",
      "Prinzessa - Capital Bra\n",
      "The Dead Flag Blues - Godspeed You! Black Emperor\n",
      "Writhe - Kyuss\n",
      "rockstar (feat. 21 Savage) - Post Malone\n",
      "Für Euch alle (feat. Samra & Capital Bra) - Bushido\n",
      "Benzema - Capital Bra\n",
      "Let Go - John Hänni\n",
      "Frost Breath - Thief\n",
      "Spaghetti mit Spinat - OVE\n",
      "Prison - Evelinn Trouble\n",
      "A Brain in a Bottle - Thom Yorke\n",
      "Theme To Pinata - Bright Eyes\n",
      "Ashes And Wine - A Fine Frenzy\n",
      "when the party's over - Billie Eilish\n",
      "Teiresias - Baroness\n",
      "Storm - Godspeed You! Black Emperor\n",
      "We Have Candy - Die Antwoord\n",
      "Runwayaway - Thom Yorke\n",
      "No Surprises - Radiohead\n",
      "Wisco Disco - 20 Watt Tombstone\n",
      "Everybody's Talkin' - From \"Midnight Cowboy\" - Harry Nilsson\n",
      "Cosi' com'e' - Articolo 31\n",
      "Little Sister - Queens of the Stone Age\n",
      "Silent Night - Mariah Carey\n",
      "Vespers - Thief\n",
      "Mosquito Song - Queens of the Stone Age\n",
      "Twist - Thom Yorke\n",
      "Black Bryony - Len Sander\n",
      "Happier - Marshmello\n",
      "The Axe - Thom Yorke\n",
      "Paranoid Android - Radiohead\n",
      "Mojo Pin - Jeff Buckley\n",
      "If You Were A Sailboat - Katie Melua\n",
      "Tranqi Funky - Articolo 31\n",
      "A mani basse - Pippo Pollina\n",
      "X - Nicky Jam\n",
      "We Didn't Start the Fire - Billy Joel\n",
      "Guggisberglied - Stephan Eicher\n"
     ]
    }
   ],
   "source": [
    "## get stuff user ####\n",
    "df_user = get_stuff_user(timerange = \"medium_term\") # Medium term takes into account the last 6 Month\n",
    "\n",
    "# remove Hörbücher\n",
    "df_user = df_user[df_user['speechiness'] < 0.66] # Tracks with >0.66 are most probably spoken texts (audiobooks)"
   ]
  },
  {
   "cell_type": "markdown",
   "metadata": {},
   "source": [
    "### Get the average feature values of the users Top100 Tracks"
   ]
  },
  {
   "cell_type": "code",
   "execution_count": 85,
   "metadata": {},
   "outputs": [],
   "source": [
    "df_meta_user = pd.DataFrame()\n",
    "\n",
    "df_meta_user.loc['user', 'speechiness'] = df_user['speechiness'].mean()\n",
    "df_meta_user.loc['user', 'danceability'] = df_user['danceability'].mean()\n",
    "df_meta_user.loc['user', 'energy'] = df_user['energy'].mean()\n",
    "\n",
    "df_meta_user.loc['user', 'valence'] = df_user['valence'].mean()\n",
    "df_meta_user.loc['user', 'acousticness'] = df_user['acousticness'].mean()\n",
    "df_meta_user.loc['user', 'liveness'] = df_user['liveness'].mean()\n",
    "\n",
    "df_meta_user.loc['user', 'popularity'] = df_user['popularity'].mean()\n",
    "df_meta_user.loc['user', 'tempo'] = df_user['tempo'].mean()\n",
    "df_meta_user.loc['user', 'duration'] = df_user['duration'].mean()\n"
   ]
  },
  {
   "cell_type": "markdown",
   "metadata": {},
   "source": [
    "**Average feature-values:**"
   ]
  },
  {
   "cell_type": "code",
   "execution_count": 86,
   "metadata": {
    "scrolled": true
   },
   "outputs": [
    {
     "data": {
      "text/html": [
       "<div>\n",
       "<style scoped>\n",
       "    .dataframe tbody tr th:only-of-type {\n",
       "        vertical-align: middle;\n",
       "    }\n",
       "\n",
       "    .dataframe tbody tr th {\n",
       "        vertical-align: top;\n",
       "    }\n",
       "\n",
       "    .dataframe thead th {\n",
       "        text-align: right;\n",
       "    }\n",
       "</style>\n",
       "<table border=\"1\" class=\"dataframe\">\n",
       "  <thead>\n",
       "    <tr style=\"text-align: right;\">\n",
       "      <th></th>\n",
       "      <th>speechiness</th>\n",
       "      <th>danceability</th>\n",
       "      <th>energy</th>\n",
       "      <th>valence</th>\n",
       "      <th>acousticness</th>\n",
       "      <th>liveness</th>\n",
       "      <th>popularity</th>\n",
       "      <th>tempo</th>\n",
       "      <th>duration</th>\n",
       "    </tr>\n",
       "  </thead>\n",
       "  <tbody>\n",
       "    <tr>\n",
       "      <th>user</th>\n",
       "      <td>0.076062</td>\n",
       "      <td>0.493414</td>\n",
       "      <td>0.54233</td>\n",
       "      <td>0.331775</td>\n",
       "      <td>0.378147</td>\n",
       "      <td>0.17774</td>\n",
       "      <td>39.646465</td>\n",
       "      <td>122.637</td>\n",
       "      <td>266683.444444</td>\n",
       "    </tr>\n",
       "  </tbody>\n",
       "</table>\n",
       "</div>"
      ],
      "text/plain": [
       "      speechiness  danceability   energy   valence  acousticness  liveness  \\\n",
       "user     0.076062      0.493414  0.54233  0.331775      0.378147   0.17774   \n",
       "\n",
       "      popularity    tempo       duration  \n",
       "user   39.646465  122.637  266683.444444  "
      ]
     },
     "execution_count": 86,
     "metadata": {},
     "output_type": "execute_result"
    }
   ],
   "source": [
    "df_meta_user"
   ]
  }
 ],
 "metadata": {
  "kernelspec": {
   "display_name": "Python 3",
   "language": "python",
   "name": "python3"
  },
  "language_info": {
   "codemirror_mode": {
    "name": "ipython",
    "version": 3
   },
   "file_extension": ".py",
   "mimetype": "text/x-python",
   "name": "python",
   "nbconvert_exporter": "python",
   "pygments_lexer": "ipython3",
   "version": "3.6.5"
  }
 },
 "nbformat": 4,
 "nbformat_minor": 2
}
